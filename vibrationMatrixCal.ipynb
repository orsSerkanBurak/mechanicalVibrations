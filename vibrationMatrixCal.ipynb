{
  "nbformat": 4,
  "nbformat_minor": 0,
  "metadata": {
    "colab": {
      "provenance": []
    },
    "kernelspec": {
      "name": "python3",
      "display_name": "Python 3"
    },
    "language_info": {
      "name": "python"
    }
  },
  "cells": [
    {
      "cell_type": "code",
      "execution_count": 2,
      "metadata": {
        "colab": {
          "base_uri": "https://localhost:8080/"
        },
        "id": "vECP3rVbY7gy",
        "outputId": "129603b6-8ad4-42e8-c5f7-73872ac914ae"
      },
      "outputs": [
        {
          "output_type": "stream",
          "name": "stdout",
          "text": [
            "Natural Frequencies\n",
            "[7.6766891 7.6766891 7.6766891 7.6766891]\n",
            "Modes shapes:\n",
            "[[ 0.56075836  0.37843952 -0.07114158  0.73298873]\n",
            " [ 0.36468923  0.28519994  0.8155939  -0.34708695]\n",
            " [ 0.42842713 -0.87526352  0.1745327   0.14107549]\n",
            " [ 0.60745537  0.09673826 -0.54706837 -0.56776393]]\n",
            "Generalized Mass Matrix (should be diagonal):\n",
            "[[ 4.50000000e+02  4.69635213e-15 -1.24773365e-14  2.63634175e-16]\n",
            " [ 1.35525356e-14  4.50000000e+02 -1.62328481e-14 -9.09115137e-15]\n",
            " [-3.12140643e-15 -1.76923906e-14  4.50000000e+02  5.81436254e-15]\n",
            " [ 1.73127012e-14  4.94495242e-15 -1.76355852e-15  4.50000000e+02]]\n"
          ]
        }
      ],
      "source": [
        "import numpy as np\n",
        "\n",
        "# Define Mass and Stiffness Matrices\n",
        "M = np.diag([450, 450, 450, 450])\n",
        "K = 26519.2 * np.diag([1, 1, 1, 1])\n",
        "\n",
        "# Initialize variables\n",
        "n = len(M)\n",
        "A = np.linalg.inv(M) @ K\n",
        "\n",
        "# Power Iteration to find eigenvalues and eigenvectors\n",
        "tol = 1e-19\n",
        "max_iter = int(1e8)\n",
        "eigenvalues = np.zeros(n)\n",
        "eigenvectors = np.zeros((n, n))\n",
        "\n",
        "for i in range(n):\n",
        "    b_k = np.random.rand(n)\n",
        "    for _ in range(max_iter):\n",
        "        b_k1 = A @ b_k\n",
        "        b_k1_norm = np.linalg.norm(b_k1)\n",
        "        b_k = b_k1 / b_k1_norm\n",
        "        if np.linalg.norm(A @ b_k - b_k1_norm * b_k) < tol:\n",
        "            break\n",
        "    eigenvalues[i] = b_k1_norm\n",
        "    eigenvectors[:, i] = b_k\n",
        "    A = A - eigenvalues[i] * np.outer(b_k, b_k)\n",
        "\n",
        "natural_frequencies = np.sqrt(eigenvalues)\n",
        "mode_shapes = eigenvectors\n",
        "\n",
        "# Check Orthogonality of Modes\n",
        "orthogonality_check = mode_shapes.T @ M @ mode_shapes\n",
        "\n",
        "# Display results\n",
        "print('Natural Frequencies')\n",
        "print(natural_frequencies)\n",
        "print('Modes shapes:')\n",
        "print(mode_shapes)\n",
        "print('Generalized Mass Matrix (should be diagonal):')\n",
        "print(orthogonality_check)\n"
      ]
    }
  ]
}